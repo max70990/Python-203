{
 "cells": [
  {
   "cell_type": "markdown",
   "metadata": {},
   "source": [
    "Example on how to run the python203 package "
   ]
  },
  {
   "cell_type": "code",
   "execution_count": 12,
   "metadata": {},
   "outputs": [
    {
     "name": "stderr",
     "output_type": "stream",
     "text": [
      "INFO:root:Fetching market data...\n",
      "INFO:root:Generating trading signals and executing trades...\n",
      "INFO:root:Generating volume-based signals...\n",
      "c:\\Users\\ASUS\\anaconda3\\Lib\\site-packages\\pybacktestchain\\broker.py:115: FutureWarning: The behavior of DataFrame concatenation with empty or all-NA entries is deprecated. In a future version, this will no longer exclude empty or all-NA columns when determining the result dtypes. To retain the old behavior, exclude the relevant entries before the concat operation.\n",
      "  self.transaction_log = pd.concat([self.transaction_log, transaction], ignore_index=True)\n",
      "INFO:root:Generating backtest rating...\n"
     ]
    },
    {
     "name": "stdout",
     "output_type": "stream",
     "text": [
      "Final Portfolio Value: 2980149.234334469\n",
      "Sharpe Ratio: 0.05367417323795205\n",
      "Maximum Drawdown: -0.200848051592955\n",
      "Backtest Rating: 7.63\n"
     ]
    },
    {
     "name": "stderr",
     "output_type": "stream",
     "text": [
      "INFO:root:Sender Balance Before: 153.64 tokens\n",
      "INFO:root:Recipient Balance Before: 49.36 tokens\n",
      "INFO:root:Transaction sent. TX hash: 0x9986a0212ad37b9502fa028781a2b5c78e37831096e1b0296e969ddf294864c7\n",
      "INFO:root:Transaction confirmed. Receipt: AttributeDict({'blockHash': HexBytes('0xedf838b0e073d6da1c2776ca905ab3629d784dcda1afd2c5595c3ddb14e8c3d9'), 'blockNumber': 7474704, 'contractAddress': None, 'cumulativeGasUsed': 35110, 'effectiveGasPrice': 50000000000, 'from': '0x0390cF896B4a7D984017e6C9D3d17b5A6287a874', 'gasUsed': 35110, 'logs': [AttributeDict({'address': '0xA0f0a2D53b3476c50F2Cf24307F8a1Cd3c758254', 'blockHash': HexBytes('0xedf838b0e073d6da1c2776ca905ab3629d784dcda1afd2c5595c3ddb14e8c3d9'), 'blockNumber': 7474704, 'data': HexBytes('0x00000000000000000000000000000000000000000000000069e33493143b0000'), 'logIndex': 0, 'removed': False, 'topics': [HexBytes('0xddf252ad1be2c89b69c2b068fc378daa952ba7f163c4a11628f55a4df523b3ef'), HexBytes('0x0000000000000000000000000390cf896b4a7d984017e6c9d3d17b5a6287a874'), HexBytes('0x000000000000000000000000c2142c6007227c9f1f1c6fe6cb7181ce491f37a7')], 'transactionHash': HexBytes('0x9986a0212ad37b9502fa028781a2b5c78e37831096e1b0296e969ddf294864c7'), 'transactionIndex': 0})], 'logsBloom': HexBytes('0x00000000000000000000000000001000000000000004000000000000000000000000000000000000000000020000000000000000000000000000000000000000000000000000001000000008000000800000001000000000000000000000000000000000000000000000000000000000000000000000000000000010010000000000000000000000000000000000000000000000000000000000000000000000000000000000000000000000000000000000000000000000000000000000000000000002000000080000000000000000000000000000000000000000000000000000000000000000008000000000000000000000000000000000000000000000'), 'status': 1, 'to': '0xA0f0a2D53b3476c50F2Cf24307F8a1Cd3c758254', 'transactionHash': HexBytes('0x9986a0212ad37b9502fa028781a2b5c78e37831096e1b0296e969ddf294864c7'), 'transactionIndex': 0, 'type': 0})\n",
      "INFO:root:Sender Balance After: 146.01 tokens\n",
      "INFO:root:Recipient Balance After: 56.99 tokens\n",
      "INFO:root:Total Supply: 203 tokens\n",
      "INFO:root:Token transfer completed successfully.\n"
     ]
    }
   ],
   "source": [
    "import logging\n",
    "import pandas as pd\n",
    "from datetime import datetime\n",
    "from python203.volumebacktest import VolumeBacktest, Tradesignals\n",
    "from python203.backtestevaluator import BacktestRating\n",
    "from python203.Tokentransfers import TokenTransfer\n",
    "from pybacktestchain.data_module import get_stocks_data\n",
    "from web3 import Web3\n",
    "\n",
    "def run_backtest():\n",
    "    # Configure logging\n",
    "    logging.basicConfig(level=logging.INFO, format=\"%(asctime)s - %(levelname)s - %(message)s\")\n",
    "\n",
    "    # Initialize VolumeBacktest\n",
    "    backtest = VolumeBacktest(\n",
    "        initial_date=datetime(2010, 1, 1),\n",
    "        final_date=datetime(2018, 1, 1),\n",
    "        universe=['AAPL', 'MSFT', 'GOOGL', 'AMZN', 'INTC', 'CSCO'],\n",
    "        initial_cash=1_000_000,\n",
    "        verbose=True\n",
    "    )\n",
    "\n",
    "    # Fetch market data\n",
    "    logging.info(\"Fetching market data...\")\n",
    "    data = get_stocks_data(\n",
    "        backtest.universe,\n",
    "        backtest.initial_date.strftime('%Y-%m-%d'),\n",
    "        backtest.final_date.strftime('%Y-%m-%d')\n",
    "    )\n",
    "\n",
    "    if data.empty:\n",
    "        logging.error(\"No market data available.\")\n",
    "        return\n",
    "\n",
    "    # Generate signals and execute trades\n",
    "    logging.info(\"Generating trading signals and executing trades...\")\n",
    "    data_with_signals = backtest.compute_signals(data)\n",
    "    results = Tradesignals(broker=backtest.broker).execute_trades(data_with_signals)\n",
    "\n",
    "    # Extract the Final Portfolio Value, Sharpe Ratio, and Maximum Drawdown\n",
    "    final_portfolio_value = results.get(\"Final Portfolio Value\")\n",
    "    sharpe_ratio = results.get(\"Sharpe Ratio\")\n",
    "    max_drawdown = results.get(\"Maximum Drawdown\")\n",
    "\n",
    "    if final_portfolio_value is None or sharpe_ratio is None or max_drawdown is None:\n",
    "        logging.error(\"Could not compute performance metrics.\")\n",
    "        return\n",
    "\n",
    "    # Generate rating\n",
    "    logging.info(\"Generating backtest rating...\")\n",
    "    metrics = {\n",
    "        \"Sharpe Ratio\": sharpe_ratio,\n",
    "        \"Maximum Drawdown\": max_drawdown,\n",
    "        \"Final Portfolio Value\": final_portfolio_value\n",
    "    }\n",
    "    rater = BacktestRating()\n",
    "    rating = rater.rate_backtest(metrics)\n",
    "\n",
    "    # Log results\n",
    "    print(f\"Final Portfolio Value: {final_portfolio_value}\")\n",
    "    print(f\"Sharpe Ratio: {sharpe_ratio}\")\n",
    "    print(f\"Maximum Drawdown: {max_drawdown}\")\n",
    "    print(f\"Backtest Rating: {rating}\")\n",
    "\n",
    "    # Transfer Tokens Based on Rating\n",
    "    ISSUER_PRIVATE_KEY = \"3a078e0c831b014a8ff42a99b0e58718eecd856abf4ca040eaada338b9c33077\"\n",
    "    ISSUER_ADDRESS = Web3.to_checksum_address(\"0x0390cF896B4a7D984017e6C9d3d17b5A6287a874\")\n",
    "    USER_ADDRESS = Web3.to_checksum_address(\"0xc2142C6007227C9f1F1C6fe6cb7181Ce491F37a7\")\n",
    "\n",
    "    token_transfer = TokenTransfer(private_key=ISSUER_PRIVATE_KEY, sender_address=ISSUER_ADDRESS)\n",
    "\n",
    "    try:\n",
    "        token_transfer.transfer_tokens_from_rating(USER_ADDRESS, rating)\n",
    "        logging.info(\"Token transfer completed successfully.\")\n",
    "    except Exception as e:\n",
    "        logging.error(f\"Token transfer failed: {e}\")\n",
    "        return\n",
    "\n",
    "if __name__ == \"__main__\":\n",
    "    run_backtest()"
   ]
  }
 ],
 "metadata": {
  "kernelspec": {
   "display_name": "base",
   "language": "python",
   "name": "python3"
  },
  "language_info": {
   "codemirror_mode": {
    "name": "ipython",
    "version": 3
   },
   "file_extension": ".py",
   "mimetype": "text/x-python",
   "name": "python",
   "nbconvert_exporter": "python",
   "pygments_lexer": "ipython3",
   "version": "3.12.4"
  }
 },
 "nbformat": 4,
 "nbformat_minor": 2
}
